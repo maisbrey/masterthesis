{
 "cells": [
  {
   "cell_type": "code",
   "execution_count": 1,
   "id": "572ecf5a",
   "metadata": {},
   "outputs": [],
   "source": [
    "import numpy as np\n",
    "import galois\n",
    "import matplotlib.pyplot as plt\n",
    "import matplotlib as mpl\n",
    "\n",
    "import sys\n",
    "sys.path.insert(1, \"../\")\n",
    "\n",
    "from modules.utils import *\n",
    "from modules.pcm_management import *\n",
    "from modules.bp_decoder_hp_reg import *\n",
    "\n",
    "GF4 = galois.GF(4)"
   ]
  },
  {
   "cell_type": "markdown",
   "id": "6c4704bb",
   "metadata": {},
   "source": [
    "# Index-based representation\n",
    "\n",
    "The BP decoder exchanges messages over the edges of the Tanner. It is implemented using an index-based representation of the stabilizer matrix. During the variable node (VN) update, messages are written into the matrix *VN_to_CN_data*. Each row *n* of this matrix contains the messages from VN *n* to all neighboring check nodes (CNs). This matrix has the same shape as the matrices *Mr* and *Mc*, which act as a lookup table to implement the set $\\mathcal{M}(n)$, described on p. 20 in the thesis. This way, messages can be efficiently \"redirected\" using a more compact representation than the sparse stabilizer matrix. This is described further below.\n",
    "\n",
    "Note that for an irregular stabilizer matrix, not all VNs have the same degree. Thus, rows of *VN_to_CN_data* (and *Mr* and *Mc*) have to be padded to the maximum degree among all VNs. We use the void entry (-1) to indicate the \"non-existence\" of the remaining connections in a row.\n",
    "\n",
    "During the CN update, the entries of *VN_to_CN_data* have to be collected. However, each row of this matrix corresponds to the \"VN perspective\". To obtain the incoming messages from the perspective of a CN, the entries of *VN_to_CN_data* have to be reordered. This is achieved using the matrices *Nr* and *Nc*, which implement the set $\\mathcal{N}(m)$ (also described on p. 20).\n",
    "\n",
    "Since each row *m* of *Nr* contains the indices of the VNs connected to the corresponding CN *m*, we can \"collect\" all incoming messages to CN *m* by reading the rows Nr[m] of *VN_to_CN_data*. The corresponding column for each row is stored in Nc[m]. \n",
    "\n",
    "In other words, to access all incoming message to CN *m*, we read *VN_to_CN_data* at the rows stored in Nr[m] and the corresponding columns stored in *Nc*.\n",
    "\n",
    "During the CN update, messages from CN *m* are written into the matrix *CN_to_VN_data*. They are then reordered into the \"VN perspective\" by using the matrices *Mr* and *Mc*."
   ]
  },
  {
   "cell_type": "markdown",
   "id": "3f1f70ca",
   "metadata": {},
   "source": [
    "The *QuantumCode* class computes *Nr*, *Nc*, *Mr*, and *Mc* when a code is read using the method *read_mode*:"
   ]
  },
  {
   "cell_type": "code",
   "execution_count": 2,
   "id": "4def05ed",
   "metadata": {},
   "outputs": [],
   "source": [
    "# read in the Steane code\n",
    "qcode = QuantumCode()\n",
    "qcode.read_mode(\"../codes/steane_7_1.alist\", css_bool=True)"
   ]
  },
  {
   "cell_type": "code",
   "execution_count": 3,
   "id": "8254cc84",
   "metadata": {},
   "outputs": [
    {
     "data": {
      "text/plain": [
       "array([[0, 0, 0, 1, 1, 1, 1],\n",
       "       [0, 1, 1, 0, 0, 1, 1],\n",
       "       [1, 0, 1, 0, 1, 0, 1],\n",
       "       [0, 0, 0, 2, 2, 2, 2],\n",
       "       [0, 2, 2, 0, 0, 2, 2],\n",
       "       [2, 0, 2, 0, 2, 0, 2]], dtype=uint8)"
      ]
     },
     "execution_count": 3,
     "metadata": {},
     "output_type": "execute_result"
    }
   ],
   "source": [
    "# (sparse) stabilizer matrix\n",
    "qcode.H"
   ]
  },
  {
   "cell_type": "code",
   "execution_count": 4,
   "id": "3e6df106",
   "metadata": {},
   "outputs": [
    {
     "data": {
      "text/plain": [
       "array([[3, 4, 5, 6],\n",
       "       [1, 2, 5, 6],\n",
       "       [0, 2, 4, 6],\n",
       "       [3, 4, 5, 6],\n",
       "       [1, 2, 5, 6],\n",
       "       [0, 2, 4, 6]], dtype=int32)"
      ]
     },
     "execution_count": 4,
     "metadata": {},
     "output_type": "execute_result"
    }
   ],
   "source": [
    "qcode.Nr"
   ]
  },
  {
   "cell_type": "code",
   "execution_count": 5,
   "id": "74b20192",
   "metadata": {},
   "outputs": [
    {
     "data": {
      "text/plain": [
       "array([[0, 0, 0, 0],\n",
       "       [0, 0, 1, 1],\n",
       "       [0, 1, 1, 2],\n",
       "       [1, 2, 2, 3],\n",
       "       [1, 2, 3, 4],\n",
       "       [1, 3, 3, 5]], dtype=int32)"
      ]
     },
     "execution_count": 5,
     "metadata": {},
     "output_type": "execute_result"
    }
   ],
   "source": [
    "qcode.Nc"
   ]
  },
  {
   "cell_type": "code",
   "execution_count": 6,
   "id": "2e6e7e5b",
   "metadata": {},
   "outputs": [
    {
     "data": {
      "text/plain": [
       "array([[ 2,  5, -1, -1, -1, -1],\n",
       "       [ 1,  4, -1, -1, -1, -1],\n",
       "       [ 1,  2,  4,  5, -1, -1],\n",
       "       [ 0,  3, -1, -1, -1, -1],\n",
       "       [ 0,  2,  3,  5, -1, -1],\n",
       "       [ 0,  1,  3,  4, -1, -1],\n",
       "       [ 0,  1,  2,  3,  4,  5]], dtype=int32)"
      ]
     },
     "execution_count": 6,
     "metadata": {},
     "output_type": "execute_result"
    }
   ],
   "source": [
    "qcode.Mr"
   ]
  },
  {
   "cell_type": "code",
   "execution_count": 7,
   "id": "8064bbed",
   "metadata": {},
   "outputs": [
    {
     "data": {
      "text/plain": [
       "array([[ 0,  0, -1, -1, -1, -1],\n",
       "       [ 0,  0, -1, -1, -1, -1],\n",
       "       [ 1,  1,  1,  1, -1, -1],\n",
       "       [ 0,  0, -1, -1, -1, -1],\n",
       "       [ 1,  2,  1,  2, -1, -1],\n",
       "       [ 2,  2,  2,  2, -1, -1],\n",
       "       [ 3,  3,  3,  3,  3,  3]], dtype=int32)"
      ]
     },
     "execution_count": 7,
     "metadata": {},
     "output_type": "execute_result"
    }
   ],
   "source": [
    "qcode.Mc"
   ]
  },
  {
   "cell_type": "markdown",
   "id": "f9ed605c",
   "metadata": {},
   "source": [
    "Note that not for irregular stabilizer matrices, we only need to collect the number of messages according to the degree of the corresponding node. This information is stored in the vectors *N_deg* (VN degrees) and *M_deg* (CN degrees)."
   ]
  },
  {
   "cell_type": "code",
   "execution_count": 8,
   "id": "f014a1b8",
   "metadata": {},
   "outputs": [
    {
     "data": {
      "text/plain": [
       "array([4, 4, 4, 4, 4, 4])"
      ]
     },
     "execution_count": 8,
     "metadata": {},
     "output_type": "execute_result"
    }
   ],
   "source": [
    "qcode.M_deg"
   ]
  },
  {
   "cell_type": "code",
   "execution_count": 9,
   "id": "7e4c52ec",
   "metadata": {},
   "outputs": [
    {
     "data": {
      "text/plain": [
       "array([2, 5], dtype=int32)"
      ]
     },
     "execution_count": 9,
     "metadata": {},
     "output_type": "execute_result"
    }
   ],
   "source": [
    "# example: get indices of neighboring CNs of VN n=0\n",
    "n = 0\n",
    "qcode.Mr[n][:qcode.N_deg[n]]"
   ]
  },
  {
   "cell_type": "code",
   "execution_count": 10,
   "id": "6a36b387",
   "metadata": {},
   "outputs": [
    {
     "data": {
      "text/plain": [
       "array([2, 2, 4, 2, 4, 4, 6])"
      ]
     },
     "execution_count": 10,
     "metadata": {},
     "output_type": "execute_result"
    }
   ],
   "source": [
    "qcode.N_deg"
   ]
  },
  {
   "cell_type": "code",
   "execution_count": 11,
   "id": "54dfe875",
   "metadata": {},
   "outputs": [
    {
     "data": {
      "text/plain": [
       "array([1, 2, 5, 6], dtype=int32)"
      ]
     },
     "execution_count": 11,
     "metadata": {},
     "output_type": "execute_result"
    }
   ],
   "source": [
    "# example: get indices of neighboring CNs of CN m=1\n",
    "m = 1\n",
    "qcode.Nr[m][:qcode.M_deg[m]]"
   ]
  },
  {
   "cell_type": "markdown",
   "id": "38a4306e",
   "metadata": {},
   "source": [
    "For demonstration purposes, let us define the matrices *CN_to_VN_data* and *VN_to_CN_data* with strings, indicating which message the entries correspond to. The entries \"-1\" are void entries to pad the matrices."
   ]
  },
  {
   "cell_type": "code",
   "execution_count": 12,
   "id": "0e60dcf6",
   "metadata": {},
   "outputs": [
    {
     "data": {
      "text/plain": [
       "array([['c0 -> v3', 'c0 -> v4', 'c0 -> v5', 'c0 -> v6'],\n",
       "       ['c1 -> v1', 'c1 -> v2', 'c1 -> v5', 'c1 -> v6'],\n",
       "       ['c2 -> v0', 'c2 -> v2', 'c2 -> v4', 'c2 -> v6'],\n",
       "       ['c3 -> v3', 'c3 -> v4', 'c3 -> v5', 'c3 -> v6'],\n",
       "       ['c4 -> v1', 'c4 -> v2', 'c4 -> v5', 'c4 -> v6'],\n",
       "       ['c5 -> v0', 'c5 -> v2', 'c5 -> v4', 'c5 -> v6']], dtype='<U11')"
      ]
     },
     "execution_count": 12,
     "metadata": {},
     "output_type": "execute_result"
    }
   ],
   "source": [
    "CN_to_VN_data = np.zeros_like(qcode.Nr).astype(str)\n",
    "\n",
    "for n, row in enumerate(qcode.Nr):\n",
    "    for m, column in enumerate(row):\n",
    "        if qcode.Nr[n, m] != -1:\n",
    "            CN_to_VN_data[n, m] = f\"c{n} -> v{row[m]}\"\n",
    "        else:\n",
    "            CN_to_VN_data[m, n] = \"-1\"\n",
    "            \n",
    "CN_to_VN_data"
   ]
  },
  {
   "cell_type": "code",
   "execution_count": 13,
   "id": "3e1951e0",
   "metadata": {},
   "outputs": [
    {
     "data": {
      "text/plain": [
       "array([['v0 -> c2', 'v0 -> c5', '-1', '-1', '-1', '-1'],\n",
       "       ['v1 -> c1', 'v1 -> c4', '-1', '-1', '-1', '-1'],\n",
       "       ['v2 -> c1', 'v2 -> c2', 'v2 -> c4', 'v2 -> c5', '-1', '-1'],\n",
       "       ['v3 -> c0', 'v3 -> c3', '-1', '-1', '-1', '-1'],\n",
       "       ['v4 -> c0', 'v4 -> c2', 'v4 -> c3', 'v4 -> c5', '-1', '-1'],\n",
       "       ['v5 -> c0', 'v5 -> c1', 'v5 -> c3', 'v5 -> c4', '-1', '-1'],\n",
       "       ['v6 -> c0', 'v6 -> c1', 'v6 -> c2', 'v6 -> c3', 'v6 -> c4',\n",
       "        'v6 -> c5']], dtype='<U11')"
      ]
     },
     "execution_count": 13,
     "metadata": {},
     "output_type": "execute_result"
    }
   ],
   "source": [
    "VN_to_CN_data = np.zeros_like(qcode.Mr).astype(str)\n",
    "\n",
    "for m, row in enumerate(qcode.Mr):\n",
    "    for n, column in enumerate(row):\n",
    "        if qcode.Mr[m, n] != -1:\n",
    "            VN_to_CN_data[m, n] = f\"v{m} -> c{row[n]}\"\n",
    "        else:\n",
    "            VN_to_CN_data[m, n] = \"-1\"\n",
    "            \n",
    "VN_to_CN_data"
   ]
  },
  {
   "cell_type": "markdown",
   "id": "be8017ef",
   "metadata": {},
   "source": [
    "To access all incoming messages to CN m=0, we have to read *VN_to_CN_data* at the rows Nr[0] and the corresponding columns Nc[0]. Note that CN m=0 is of degree deg=4 and we hence only read the first 4 entries of Nr and Nc."
   ]
  },
  {
   "cell_type": "code",
   "execution_count": 14,
   "id": "96a2c159",
   "metadata": {},
   "outputs": [
    {
     "data": {
      "text/plain": [
       "array(['v3 -> c0', 'v4 -> c0', 'v5 -> c0', 'v6 -> c0'], dtype='<U11')"
      ]
     },
     "execution_count": 14,
     "metadata": {},
     "output_type": "execute_result"
    }
   ],
   "source": [
    "# access incoming messages to CN m=0. Note that CN m=0 is of degree 4\n",
    "m = 0\n",
    "VN_to_CN_data[qcode.Nr[m, :qcode.M_deg[m]], qcode.Nc[m, :qcode.M_deg[m]]]"
   ]
  },
  {
   "cell_type": "markdown",
   "id": "c1f27ba1",
   "metadata": {},
   "source": [
    "To access all incoming messages to VN n=0, we have to read *CN_to_VN_data* at the rows Mr[0] and the corresponding columns Mc[0]. Note that VN n=0 is of degree deg=2 and we hence only read the first 2 entries of Mr and Mc."
   ]
  },
  {
   "cell_type": "code",
   "execution_count": 15,
   "id": "6e8a1075",
   "metadata": {},
   "outputs": [
    {
     "data": {
      "text/plain": [
       "array(['c2 -> v0', 'c5 -> v0'], dtype='<U11')"
      ]
     },
     "execution_count": 15,
     "metadata": {},
     "output_type": "execute_result"
    }
   ],
   "source": [
    "# access incoming messages to VN n=0. Note that VN n=0 is of degree 2\n",
    "n = 0\n",
    "CN_to_VN_data[qcode.Mr[n, :qcode.N_deg[n]], qcode.Mc[n, :qcode.N_deg[n]]]"
   ]
  },
  {
   "cell_type": "markdown",
   "id": "9a2560d7",
   "metadata": {},
   "source": [
    "### Parallel and Serial Schedule, Codes with Constant and Non-Constant CN degree"
   ]
  },
  {
   "cell_type": "markdown",
   "id": "cd661339",
   "metadata": {},
   "source": [
    "In the scope of this thesis, BP decoding was implemented in different ways. While the reordering described above is a key concept in all implementations, differences lie in the parallelizability.\n",
    "\n",
    "This parallelizability depends on both, the update schedule (parallel vs. serial) as well as the code (constant CN degree vs. non-constant CN degree). \n",
    "\n",
    "If a regular LDPC code with $d_v = 3, d_c = 4$ is used to construct a symmetric HP code, the resulting code has a constant CN degree of 7:"
   ]
  },
  {
   "cell_type": "code",
   "execution_count": 16,
   "id": "b96ab8c8",
   "metadata": {},
   "outputs": [
    {
     "data": {
      "text/plain": [
       "array([[ 32,  96, 144, ..., 257, 259, 260],\n",
       "       [ 33,  97, 145, ..., 260, 262, 267],\n",
       "       [ 34,  98, 146, ..., 256, 258, 261],\n",
       "       ...,\n",
       "       [248, 249, 252, ..., 301, 361, 385],\n",
       "       [245, 246, 248, ..., 302, 362, 386],\n",
       "       [241, 244, 246, ..., 303, 363, 387]], dtype=int32)"
      ]
     },
     "execution_count": 16,
     "metadata": {},
     "output_type": "execute_result"
    }
   ],
   "source": [
    "# read in the [[400, 16]] HP code\n",
    "qcode = QuantumCode()\n",
    "qcode.read_mode(\"../codes/hp_400_16.alist\", css_bool=True)\n",
    "qcode.Nr"
   ]
  },
  {
   "cell_type": "markdown",
   "id": "ef59c4f6",
   "metadata": {},
   "source": [
    "The module *bp_decoder_hp_reg.py* contains the implementation of both, a parallel and a serial update schedule for such symmetric HP codes. \n",
    "\n",
    "It's functions are explained in the notebook *demo_bp_decoder_hp_reg*."
   ]
  },
  {
   "cell_type": "markdown",
   "id": "79926b98",
   "metadata": {},
   "source": [
    "On the other hand, HP codes constructed from irregular classical codes (such as the [[129, 28]] HP code) don't have a constant CN degree and hence are not as parallelizable. The decoder can thus be used for a more general class of HP codes but runs significantly slower, compared to the implementation designed for symmetric HP codes.\n",
    "\n",
    "The module *bp_decoder_hp_ireg.py* contains the implementation of both, a parallel and a serial update schedule for this (more general) case of HP codes. \n",
    "\n",
    "It's functions are explained in the notebook *demo_bp_decoder_hp_ireg*."
   ]
  },
  {
   "cell_type": "markdown",
   "id": "5256a7a5",
   "metadata": {},
   "source": [
    "# Basics of BP decoding"
   ]
  },
  {
   "cell_type": "markdown",
   "id": "87da9a57",
   "metadata": {},
   "source": [
    "While the update functions for VNs and CNs depend on the update schedule and properties of the code, the basic set-up of all implementations is identical. We discuss this set-up using the parallel decoder for the symmetric [[400, 16]] HP code (as this allows for the simplest demonstration)."
   ]
  },
  {
   "cell_type": "markdown",
   "id": "057d7696",
   "metadata": {},
   "source": [
    "The decoders are implemented as classes. These classes have variables that represent the code as well as variables that represent and document the current state of the decoder (i.e. the beliefs). In addition, a decoder has methods to update messages and check for convergence."
   ]
  },
  {
   "cell_type": "code",
   "execution_count": 17,
   "id": "696a576b",
   "metadata": {},
   "outputs": [],
   "source": [
    "# read in the [[400, 16]] HP code\n",
    "qcode = QuantumCode()\n",
    "qcode.read_mode(\"../codes/hp_400_16.alist\", css_bool=True)"
   ]
  },
  {
   "cell_type": "markdown",
   "id": "ad8e2066",
   "metadata": {},
   "source": [
    "In addition to the matrices *Nr*, *Nc*, *Mr* and *Mc*, we require information on the edge types associated to each connection. This information can be accessed via the matrices *N_pauli_lookup* (identical shape to *Nr*) and *M_pauli_lookup* (identical shape to *Mr*):"
   ]
  },
  {
   "cell_type": "code",
   "execution_count": 18,
   "id": "dcab0c94",
   "metadata": {},
   "outputs": [
    {
     "data": {
      "text/plain": [
       "array([[1, 1, 1, ..., 1, 1, 1],\n",
       "       [1, 1, 1, ..., 1, 1, 1],\n",
       "       [1, 1, 1, ..., 1, 1, 1],\n",
       "       ...,\n",
       "       [2, 2, 2, ..., 2, 2, 2],\n",
       "       [2, 2, 2, ..., 2, 2, 2],\n",
       "       [2, 2, 2, ..., 2, 2, 2]], dtype=int32)"
      ]
     },
     "execution_count": 18,
     "metadata": {},
     "output_type": "execute_result"
    }
   ],
   "source": [
    "qcode.N_pauli_lookup"
   ]
  },
  {
   "cell_type": "code",
   "execution_count": 19,
   "id": "385a9ad6",
   "metadata": {},
   "outputs": [
    {
     "data": {
      "text/plain": [
       "array([[ 1,  1,  1, ...,  2, -1, -1],\n",
       "       [ 1,  1,  1, ...,  2, -1, -1],\n",
       "       [ 1,  1,  1, ...,  2, -1, -1],\n",
       "       ...,\n",
       "       [ 1,  1,  1, ...,  2,  2,  2],\n",
       "       [ 1,  1,  1, ...,  2,  2,  2],\n",
       "       [ 1,  1,  1, ...,  2,  2,  2]], dtype=int32)"
      ]
     },
     "execution_count": 19,
     "metadata": {},
     "output_type": "execute_result"
    }
   ],
   "source": [
    "qcode.M_pauli_lookup"
   ]
  },
  {
   "cell_type": "markdown",
   "id": "77850a73",
   "metadata": {},
   "source": [
    "Also, a decoder requires an initial value for $\\epsilon_0$. With this, we can instantiate a decoder:"
   ]
  },
  {
   "cell_type": "code",
   "execution_count": 20,
   "id": "3a132e4b",
   "metadata": {},
   "outputs": [],
   "source": [
    "epsilon = 0.01"
   ]
  },
  {
   "cell_type": "code",
   "execution_count": 21,
   "id": "06bc82a5",
   "metadata": {},
   "outputs": [],
   "source": [
    "decoder = DecoderParallel(qcode.Mr, qcode.Mc, qcode.M_pauli_lookup,\n",
    "                          qcode.Nr, qcode.Nc, qcode.N_pauli_lookup,\n",
    "                          epsilon)"
   ]
  },
  {
   "cell_type": "markdown",
   "id": "ad55363e",
   "metadata": {},
   "source": [
    "A decoder has the variables *error* and *z* to represent the error that is to be decoded and it's corresponding syndrome. Initially, these variables are all-zero:"
   ]
  },
  {
   "cell_type": "code",
   "execution_count": 22,
   "id": "684976ba",
   "metadata": {},
   "outputs": [
    {
     "data": {
      "text/plain": [
       "GF([0, 0, 0, 0, 0, 0, 0, 0, 0, 0, 0, 0, 0, 0, 0, 0, 0, 0, 0, 0, 0, 0, 0,\n",
       "    0, 0, 0, 0, 0, 0, 0, 0, 0, 0, 0, 0, 0, 0, 0, 0, 0, 0, 0, 0, 0, 0, 0,\n",
       "    0, 0, 0, 0, 0, 0, 0, 0, 0, 0, 0, 0, 0, 0, 0, 0, 0, 0, 0, 0, 0, 0, 0,\n",
       "    0, 0, 0, 0, 0, 0, 0, 0, 0, 0, 0, 0, 0, 0, 0, 0, 0, 0, 0, 0, 0, 0, 0,\n",
       "    0, 0, 0, 0, 0, 0, 0, 0, 0, 0, 0, 0, 0, 0, 0, 0, 0, 0, 0, 0, 0, 0, 0,\n",
       "    0, 0, 0, 0, 0, 0, 0, 0, 0, 0, 0, 0, 0, 0, 0, 0, 0, 0, 0, 0, 0, 0, 0,\n",
       "    0, 0, 0, 0, 0, 0, 0, 0, 0, 0, 0, 0, 0, 0, 0, 0, 0, 0, 0, 0, 0, 0, 0,\n",
       "    0, 0, 0, 0, 0, 0, 0, 0, 0, 0, 0, 0, 0, 0, 0, 0, 0, 0, 0, 0, 0, 0, 0,\n",
       "    0, 0, 0, 0, 0, 0, 0, 0, 0, 0, 0, 0, 0, 0, 0, 0, 0, 0, 0, 0, 0, 0, 0,\n",
       "    0, 0, 0, 0, 0, 0, 0, 0, 0, 0, 0, 0, 0, 0, 0, 0, 0, 0, 0, 0, 0, 0, 0,\n",
       "    0, 0, 0, 0, 0, 0, 0, 0, 0, 0, 0, 0, 0, 0, 0, 0, 0, 0, 0, 0, 0, 0, 0,\n",
       "    0, 0, 0, 0, 0, 0, 0, 0, 0, 0, 0, 0, 0, 0, 0, 0, 0, 0, 0, 0, 0, 0, 0,\n",
       "    0, 0, 0, 0, 0, 0, 0, 0, 0, 0, 0, 0, 0, 0, 0, 0, 0, 0, 0, 0, 0, 0, 0,\n",
       "    0, 0, 0, 0, 0, 0, 0, 0, 0, 0, 0, 0, 0, 0, 0, 0, 0, 0, 0, 0, 0, 0, 0,\n",
       "    0, 0, 0, 0, 0, 0, 0, 0, 0, 0, 0, 0, 0, 0, 0, 0, 0, 0, 0, 0, 0, 0, 0,\n",
       "    0, 0, 0, 0, 0, 0, 0, 0, 0, 0, 0, 0, 0, 0, 0, 0, 0, 0, 0, 0, 0, 0, 0,\n",
       "    0, 0, 0, 0, 0, 0, 0, 0, 0, 0, 0, 0, 0, 0, 0, 0, 0, 0, 0, 0, 0, 0, 0,\n",
       "    0, 0, 0, 0, 0, 0, 0, 0, 0], order=2^2)"
      ]
     },
     "execution_count": 22,
     "metadata": {},
     "output_type": "execute_result"
    }
   ],
   "source": [
    "decoder.error"
   ]
  },
  {
   "cell_type": "code",
   "execution_count": 23,
   "id": "a2d6c028",
   "metadata": {},
   "outputs": [
    {
     "data": {
      "text/plain": [
       "array([0, 0, 0, 0, 0, 0, 0, 0, 0, 0, 0, 0, 0, 0, 0, 0, 0, 0, 0, 0, 0, 0,\n",
       "       0, 0, 0, 0, 0, 0, 0, 0, 0, 0, 0, 0, 0, 0, 0, 0, 0, 0, 0, 0, 0, 0,\n",
       "       0, 0, 0, 0, 0, 0, 0, 0, 0, 0, 0, 0, 0, 0, 0, 0, 0, 0, 0, 0, 0, 0,\n",
       "       0, 0, 0, 0, 0, 0, 0, 0, 0, 0, 0, 0, 0, 0, 0, 0, 0, 0, 0, 0, 0, 0,\n",
       "       0, 0, 0, 0, 0, 0, 0, 0, 0, 0, 0, 0, 0, 0, 0, 0, 0, 0, 0, 0, 0, 0,\n",
       "       0, 0, 0, 0, 0, 0, 0, 0, 0, 0, 0, 0, 0, 0, 0, 0, 0, 0, 0, 0, 0, 0,\n",
       "       0, 0, 0, 0, 0, 0, 0, 0, 0, 0, 0, 0, 0, 0, 0, 0, 0, 0, 0, 0, 0, 0,\n",
       "       0, 0, 0, 0, 0, 0, 0, 0, 0, 0, 0, 0, 0, 0, 0, 0, 0, 0, 0, 0, 0, 0,\n",
       "       0, 0, 0, 0, 0, 0, 0, 0, 0, 0, 0, 0, 0, 0, 0, 0, 0, 0, 0, 0, 0, 0,\n",
       "       0, 0, 0, 0, 0, 0, 0, 0, 0, 0, 0, 0, 0, 0, 0, 0, 0, 0, 0, 0, 0, 0,\n",
       "       0, 0, 0, 0, 0, 0, 0, 0, 0, 0, 0, 0, 0, 0, 0, 0, 0, 0, 0, 0, 0, 0,\n",
       "       0, 0, 0, 0, 0, 0, 0, 0, 0, 0, 0, 0, 0, 0, 0, 0, 0, 0, 0, 0, 0, 0,\n",
       "       0, 0, 0, 0, 0, 0, 0, 0, 0, 0, 0, 0, 0, 0, 0, 0, 0, 0, 0, 0, 0, 0,\n",
       "       0, 0, 0, 0, 0, 0, 0, 0, 0, 0, 0, 0, 0, 0, 0, 0, 0, 0, 0, 0, 0, 0,\n",
       "       0, 0, 0, 0, 0, 0, 0, 0, 0, 0, 0, 0, 0, 0, 0, 0, 0, 0, 0, 0, 0, 0,\n",
       "       0, 0, 0, 0, 0, 0, 0, 0, 0, 0, 0, 0, 0, 0, 0, 0, 0, 0, 0, 0, 0, 0,\n",
       "       0, 0, 0, 0, 0, 0, 0, 0, 0, 0, 0, 0, 0, 0, 0, 0, 0, 0, 0, 0, 0, 0,\n",
       "       0, 0, 0, 0, 0, 0, 0, 0, 0, 0], dtype=uint8)"
      ]
     },
     "execution_count": 23,
     "metadata": {},
     "output_type": "execute_result"
    }
   ],
   "source": [
    "decoder.z"
   ]
  },
  {
   "cell_type": "markdown",
   "id": "8b211f46",
   "metadata": {},
   "source": [
    "The error can be set using the method *set_error*. This also updates the syndrome $z$, using the method *compute_syndrome*, which uses the index-based representation to efficiently compute the syndrome:"
   ]
  },
  {
   "cell_type": "code",
   "execution_count": 24,
   "id": "8ebed561",
   "metadata": {},
   "outputs": [],
   "source": [
    "error = np.zeros(qcode.n, dtype = np.uint8)\n",
    "error[[0, 1, 2, 3]] = [2, 1, 2, 3]"
   ]
  },
  {
   "cell_type": "code",
   "execution_count": 25,
   "id": "2d605dca",
   "metadata": {},
   "outputs": [],
   "source": [
    "decoder.set_error(error)"
   ]
  },
  {
   "cell_type": "code",
   "execution_count": 26,
   "id": "db73bb3c",
   "metadata": {},
   "outputs": [
    {
     "data": {
      "text/plain": [
       "GF([2, 1, 2, 3, 0, 0, 0, 0, 0, 0, 0, 0, 0, 0, 0, 0, 0, 0, 0, 0, 0, 0, 0,\n",
       "    0, 0, 0, 0, 0, 0, 0, 0, 0, 0, 0, 0, 0, 0, 0, 0, 0, 0, 0, 0, 0, 0, 0,\n",
       "    0, 0, 0, 0, 0, 0, 0, 0, 0, 0, 0, 0, 0, 0, 0, 0, 0, 0, 0, 0, 0, 0, 0,\n",
       "    0, 0, 0, 0, 0, 0, 0, 0, 0, 0, 0, 0, 0, 0, 0, 0, 0, 0, 0, 0, 0, 0, 0,\n",
       "    0, 0, 0, 0, 0, 0, 0, 0, 0, 0, 0, 0, 0, 0, 0, 0, 0, 0, 0, 0, 0, 0, 0,\n",
       "    0, 0, 0, 0, 0, 0, 0, 0, 0, 0, 0, 0, 0, 0, 0, 0, 0, 0, 0, 0, 0, 0, 0,\n",
       "    0, 0, 0, 0, 0, 0, 0, 0, 0, 0, 0, 0, 0, 0, 0, 0, 0, 0, 0, 0, 0, 0, 0,\n",
       "    0, 0, 0, 0, 0, 0, 0, 0, 0, 0, 0, 0, 0, 0, 0, 0, 0, 0, 0, 0, 0, 0, 0,\n",
       "    0, 0, 0, 0, 0, 0, 0, 0, 0, 0, 0, 0, 0, 0, 0, 0, 0, 0, 0, 0, 0, 0, 0,\n",
       "    0, 0, 0, 0, 0, 0, 0, 0, 0, 0, 0, 0, 0, 0, 0, 0, 0, 0, 0, 0, 0, 0, 0,\n",
       "    0, 0, 0, 0, 0, 0, 0, 0, 0, 0, 0, 0, 0, 0, 0, 0, 0, 0, 0, 0, 0, 0, 0,\n",
       "    0, 0, 0, 0, 0, 0, 0, 0, 0, 0, 0, 0, 0, 0, 0, 0, 0, 0, 0, 0, 0, 0, 0,\n",
       "    0, 0, 0, 0, 0, 0, 0, 0, 0, 0, 0, 0, 0, 0, 0, 0, 0, 0, 0, 0, 0, 0, 0,\n",
       "    0, 0, 0, 0, 0, 0, 0, 0, 0, 0, 0, 0, 0, 0, 0, 0, 0, 0, 0, 0, 0, 0, 0,\n",
       "    0, 0, 0, 0, 0, 0, 0, 0, 0, 0, 0, 0, 0, 0, 0, 0, 0, 0, 0, 0, 0, 0, 0,\n",
       "    0, 0, 0, 0, 0, 0, 0, 0, 0, 0, 0, 0, 0, 0, 0, 0, 0, 0, 0, 0, 0, 0, 0,\n",
       "    0, 0, 0, 0, 0, 0, 0, 0, 0, 0, 0, 0, 0, 0, 0, 0, 0, 0, 0, 0, 0, 0, 0,\n",
       "    0, 0, 0, 0, 0, 0, 0, 0, 0], order=2^2)"
      ]
     },
     "execution_count": 26,
     "metadata": {},
     "output_type": "execute_result"
    }
   ],
   "source": [
    "decoder.error"
   ]
  },
  {
   "cell_type": "code",
   "execution_count": 27,
   "id": "0905886b",
   "metadata": {},
   "outputs": [
    {
     "data": {
      "text/plain": [
       "array([0, 0, 0, 0, 0, 0, 0, 0, 0, 0, 0, 0, 0, 0, 0, 0, 1, 0, 1, 1, 0, 0,\n",
       "       0, 0, 0, 0, 0, 0, 0, 0, 0, 0, 0, 0, 0, 0, 0, 0, 0, 0, 0, 0, 0, 0,\n",
       "       0, 0, 0, 0, 1, 0, 1, 1, 0, 0, 0, 0, 0, 0, 0, 0, 0, 0, 0, 0, 1, 0,\n",
       "       1, 1, 0, 0, 0, 0, 0, 0, 0, 0, 0, 0, 0, 0, 0, 0, 0, 0, 0, 0, 0, 0,\n",
       "       0, 0, 0, 0, 0, 0, 0, 0, 0, 0, 0, 0, 0, 0, 0, 0, 0, 0, 0, 0, 0, 0,\n",
       "       0, 0, 0, 0, 0, 0, 0, 0, 0, 0, 0, 0, 0, 0, 0, 0, 0, 0, 0, 0, 0, 0,\n",
       "       0, 0, 0, 0, 0, 0, 0, 0, 0, 0, 0, 0, 0, 0, 0, 0, 0, 0, 0, 0, 0, 0,\n",
       "       0, 0, 0, 0, 0, 0, 0, 0, 0, 0, 0, 0, 0, 0, 0, 0, 0, 0, 0, 0, 0, 0,\n",
       "       0, 0, 0, 0, 0, 0, 0, 0, 0, 0, 0, 0, 0, 0, 0, 0, 0, 1, 1, 0, 1, 0,\n",
       "       0, 0, 0, 0, 0, 1, 0, 0, 0, 0, 0, 0, 0, 0, 0, 0, 0, 0, 0, 0, 0, 0,\n",
       "       0, 0, 0, 0, 0, 0, 0, 0, 0, 0, 0, 0, 0, 0, 0, 0, 0, 0, 0, 0, 0, 0,\n",
       "       0, 0, 0, 0, 0, 0, 0, 0, 0, 0, 0, 0, 0, 0, 0, 0, 0, 0, 0, 0, 0, 0,\n",
       "       0, 0, 0, 0, 0, 0, 0, 0, 0, 0, 0, 0, 0, 0, 0, 0, 0, 0, 0, 0, 0, 0,\n",
       "       0, 0, 0, 0, 0, 0, 0, 0, 0, 0, 0, 0, 0, 0, 0, 0, 0, 0, 0, 0, 0, 0,\n",
       "       0, 0, 0, 0, 0, 0, 0, 0, 0, 0, 0, 0, 0, 0, 0, 0, 0, 0, 0, 0, 0, 0,\n",
       "       0, 0, 0, 0, 0, 0, 0, 0, 0, 0, 0, 0, 0, 0, 0, 0, 0, 0, 0, 0, 0, 0,\n",
       "       0, 0, 0, 0, 0, 0, 0, 0, 0, 0, 0, 0, 0, 0, 0, 0, 0, 0, 0, 0, 0, 0,\n",
       "       0, 0, 0, 0, 0, 0, 0, 0, 0, 0], dtype=uint8)"
      ]
     },
     "execution_count": 27,
     "metadata": {},
     "output_type": "execute_result"
    }
   ],
   "source": [
    "decoder.z"
   ]
  },
  {
   "cell_type": "markdown",
   "id": "fef322f5",
   "metadata": {},
   "source": [
    "Initially, the matrices *VN_to_CN_data* and *CN_to_VN_data* are set to (-1) everywhere:"
   ]
  },
  {
   "cell_type": "code",
   "execution_count": 28,
   "id": "d94d4026",
   "metadata": {},
   "outputs": [
    {
     "data": {
      "text/plain": [
       "array([[-1., -1., -1., ..., -1., -1., -1.],\n",
       "       [-1., -1., -1., ..., -1., -1., -1.],\n",
       "       [-1., -1., -1., ..., -1., -1., -1.],\n",
       "       ...,\n",
       "       [-1., -1., -1., ..., -1., -1., -1.],\n",
       "       [-1., -1., -1., ..., -1., -1., -1.],\n",
       "       [-1., -1., -1., ..., -1., -1., -1.]])"
      ]
     },
     "execution_count": 28,
     "metadata": {},
     "output_type": "execute_result"
    }
   ],
   "source": [
    "decoder.VN_to_CN_data"
   ]
  },
  {
   "cell_type": "code",
   "execution_count": 29,
   "id": "36d63e65",
   "metadata": {},
   "outputs": [
    {
     "data": {
      "text/plain": [
       "array([[-1., -1., -1., ..., -1., -1., -1.],\n",
       "       [-1., -1., -1., ..., -1., -1., -1.],\n",
       "       [-1., -1., -1., ..., -1., -1., -1.],\n",
       "       ...,\n",
       "       [-1., -1., -1., ..., -1., -1., -1.],\n",
       "       [-1., -1., -1., ..., -1., -1., -1.],\n",
       "       [-1., -1., -1., ..., -1., -1., -1.]])"
      ]
     },
     "execution_count": 29,
     "metadata": {},
     "output_type": "execute_result"
    }
   ],
   "source": [
    "decoder.CN_to_VN_data"
   ]
  },
  {
   "cell_type": "markdown",
   "id": "f0a9022a",
   "metadata": {},
   "source": [
    "The matrix *VN_to_CN_data* can be initialized using the method *initialization*. This initialization depends on the variable *Lambda*, which represents the a-priori beliefs (defined on p. 21 in the thesis):"
   ]
  },
  {
   "cell_type": "code",
   "execution_count": 30,
   "id": "d5fb49e7",
   "metadata": {},
   "outputs": [
    {
     "data": {
      "text/plain": [
       "array([[5.69373214, 5.69373214, 5.69373214],\n",
       "       [5.69373214, 5.69373214, 5.69373214],\n",
       "       [5.69373214, 5.69373214, 5.69373214],\n",
       "       ...,\n",
       "       [5.69373214, 5.69373214, 5.69373214],\n",
       "       [5.69373214, 5.69373214, 5.69373214],\n",
       "       [5.69373214, 5.69373214, 5.69373214]])"
      ]
     },
     "execution_count": 30,
     "metadata": {},
     "output_type": "execute_result"
    }
   ],
   "source": [
    "decoder.Lambda"
   ]
  },
  {
   "cell_type": "code",
   "execution_count": 31,
   "id": "d13460db",
   "metadata": {},
   "outputs": [],
   "source": [
    "decoder.initialization()"
   ]
  },
  {
   "cell_type": "code",
   "execution_count": 32,
   "id": "17c3dc41",
   "metadata": {},
   "outputs": [
    {
     "data": {
      "text/plain": [
       "array([[5.00405788, 5.00405788, 5.00405788, ..., 5.00405788, 5.00405788,\n",
       "        5.00405788],\n",
       "       [5.00405788, 5.00405788, 5.00405788, ..., 5.00405788, 5.00405788,\n",
       "        5.00405788],\n",
       "       [5.00405788, 5.00405788, 5.00405788, ..., 5.00405788, 5.00405788,\n",
       "        5.00405788],\n",
       "       ...,\n",
       "       [5.00405788, 5.00405788, 5.00405788, ..., 5.00405788, 5.00405788,\n",
       "        5.00405788],\n",
       "       [5.00405788, 5.00405788, 5.00405788, ..., 5.00405788, 5.00405788,\n",
       "        5.00405788],\n",
       "       [5.00405788, 5.00405788, 5.00405788, ..., 5.00405788, 5.00405788,\n",
       "        5.00405788]])"
      ]
     },
     "execution_count": 32,
     "metadata": {},
     "output_type": "execute_result"
    }
   ],
   "source": [
    "decoder.VN_to_CN_data"
   ]
  },
  {
   "cell_type": "markdown",
   "id": "3964e4cd",
   "metadata": {},
   "source": [
    "The current estimate of the error (defined in line 13 of Algorithm 1 on p. 22 in the thesis) can be updated using the method *update_estimates*. This method also updates the syndrome of the estimated error. These variables can be accessed via decoder.error_estimate and decoder.z_estimate:"
   ]
  },
  {
   "cell_type": "code",
   "execution_count": 33,
   "id": "694b6e4b",
   "metadata": {},
   "outputs": [],
   "source": [
    "decoder.update_estimates()"
   ]
  },
  {
   "cell_type": "code",
   "execution_count": 34,
   "id": "a20c1eb3",
   "metadata": {},
   "outputs": [
    {
     "data": {
      "text/plain": [
       "GF([0, 0, 0, 0, 0, 0, 0, 0, 0, 0, 0, 0, 0, 0, 0, 0, 0, 0, 0, 0, 0, 0, 0,\n",
       "    0, 0, 0, 0, 0, 0, 0, 0, 0, 0, 0, 0, 0, 0, 0, 0, 0, 0, 0, 0, 0, 0, 0,\n",
       "    0, 0, 0, 0, 0, 0, 0, 0, 0, 0, 0, 0, 0, 0, 0, 0, 0, 0, 0, 0, 0, 0, 0,\n",
       "    0, 0, 0, 0, 0, 0, 0, 0, 0, 0, 0, 0, 0, 0, 0, 0, 0, 0, 0, 0, 0, 0, 0,\n",
       "    0, 0, 0, 0, 0, 0, 0, 0, 0, 0, 0, 0, 0, 0, 0, 0, 0, 0, 0, 0, 0, 0, 0,\n",
       "    0, 0, 0, 0, 0, 0, 0, 0, 0, 0, 0, 0, 0, 0, 0, 0, 0, 0, 0, 0, 0, 0, 0,\n",
       "    0, 0, 0, 0, 0, 0, 0, 0, 0, 0, 0, 0, 0, 0, 0, 0, 0, 0, 0, 0, 0, 0, 0,\n",
       "    0, 0, 0, 0, 0, 0, 0, 0, 0, 0, 0, 0, 0, 0, 0, 0, 0, 0, 0, 0, 0, 0, 0,\n",
       "    0, 0, 0, 0, 0, 0, 0, 0, 0, 0, 0, 0, 0, 0, 0, 0, 0, 0, 0, 0, 0, 0, 0,\n",
       "    0, 0, 0, 0, 0, 0, 0, 0, 0, 0, 0, 0, 0, 0, 0, 0, 0, 0, 0, 0, 0, 0, 0,\n",
       "    0, 0, 0, 0, 0, 0, 0, 0, 0, 0, 0, 0, 0, 0, 0, 0, 0, 0, 0, 0, 0, 0, 0,\n",
       "    0, 0, 0, 0, 0, 0, 0, 0, 0, 0, 0, 0, 0, 0, 0, 0, 0, 0, 0, 0, 0, 0, 0,\n",
       "    0, 0, 0, 0, 0, 0, 0, 0, 0, 0, 0, 0, 0, 0, 0, 0, 0, 0, 0, 0, 0, 0, 0,\n",
       "    0, 0, 0, 0, 0, 0, 0, 0, 0, 0, 0, 0, 0, 0, 0, 0, 0, 0, 0, 0, 0, 0, 0,\n",
       "    0, 0, 0, 0, 0, 0, 0, 0, 0, 0, 0, 0, 0, 0, 0, 0, 0, 0, 0, 0, 0, 0, 0,\n",
       "    0, 0, 0, 0, 0, 0, 0, 0, 0, 0, 0, 0, 0, 0, 0, 0, 0, 0, 0, 0, 0, 0, 0,\n",
       "    0, 0, 0, 0, 0, 0, 0, 0, 0, 0, 0, 0, 0, 0, 0, 0, 0, 0, 0, 0, 0, 0, 0,\n",
       "    0, 0, 0, 0, 0, 0, 0, 0, 0], order=2^2)"
      ]
     },
     "execution_count": 34,
     "metadata": {},
     "output_type": "execute_result"
    }
   ],
   "source": [
    "decoder.error_estimate"
   ]
  },
  {
   "cell_type": "code",
   "execution_count": 35,
   "id": "8d2b8a8c",
   "metadata": {},
   "outputs": [
    {
     "data": {
      "text/plain": [
       "array([0, 0, 0, 0, 0, 0, 0, 0, 0, 0, 0, 0, 0, 0, 0, 0, 0, 0, 0, 0, 0, 0,\n",
       "       0, 0, 0, 0, 0, 0, 0, 0, 0, 0, 0, 0, 0, 0, 0, 0, 0, 0, 0, 0, 0, 0,\n",
       "       0, 0, 0, 0, 0, 0, 0, 0, 0, 0, 0, 0, 0, 0, 0, 0, 0, 0, 0, 0, 0, 0,\n",
       "       0, 0, 0, 0, 0, 0, 0, 0, 0, 0, 0, 0, 0, 0, 0, 0, 0, 0, 0, 0, 0, 0,\n",
       "       0, 0, 0, 0, 0, 0, 0, 0, 0, 0, 0, 0, 0, 0, 0, 0, 0, 0, 0, 0, 0, 0,\n",
       "       0, 0, 0, 0, 0, 0, 0, 0, 0, 0, 0, 0, 0, 0, 0, 0, 0, 0, 0, 0, 0, 0,\n",
       "       0, 0, 0, 0, 0, 0, 0, 0, 0, 0, 0, 0, 0, 0, 0, 0, 0, 0, 0, 0, 0, 0,\n",
       "       0, 0, 0, 0, 0, 0, 0, 0, 0, 0, 0, 0, 0, 0, 0, 0, 0, 0, 0, 0, 0, 0,\n",
       "       0, 0, 0, 0, 0, 0, 0, 0, 0, 0, 0, 0, 0, 0, 0, 0, 0, 0, 0, 0, 0, 0,\n",
       "       0, 0, 0, 0, 0, 0, 0, 0, 0, 0, 0, 0, 0, 0, 0, 0, 0, 0, 0, 0, 0, 0,\n",
       "       0, 0, 0, 0, 0, 0, 0, 0, 0, 0, 0, 0, 0, 0, 0, 0, 0, 0, 0, 0, 0, 0,\n",
       "       0, 0, 0, 0, 0, 0, 0, 0, 0, 0, 0, 0, 0, 0, 0, 0, 0, 0, 0, 0, 0, 0,\n",
       "       0, 0, 0, 0, 0, 0, 0, 0, 0, 0, 0, 0, 0, 0, 0, 0, 0, 0, 0, 0, 0, 0,\n",
       "       0, 0, 0, 0, 0, 0, 0, 0, 0, 0, 0, 0, 0, 0, 0, 0, 0, 0, 0, 0, 0, 0,\n",
       "       0, 0, 0, 0, 0, 0, 0, 0, 0, 0, 0, 0, 0, 0, 0, 0, 0, 0, 0, 0, 0, 0,\n",
       "       0, 0, 0, 0, 0, 0, 0, 0, 0, 0, 0, 0, 0, 0, 0, 0, 0, 0, 0, 0, 0, 0,\n",
       "       0, 0, 0, 0, 0, 0, 0, 0, 0, 0, 0, 0, 0, 0, 0, 0, 0, 0, 0, 0, 0, 0,\n",
       "       0, 0, 0, 0, 0, 0, 0, 0, 0, 0], dtype=uint8)"
      ]
     },
     "execution_count": 35,
     "metadata": {},
     "output_type": "execute_result"
    }
   ],
   "source": [
    "decoder.z_estimate"
   ]
  },
  {
   "cell_type": "markdown",
   "id": "f7cd0392",
   "metadata": {},
   "source": [
    "Note that the decoding procedure is terminated as soon as the estimated syndrome equals the true syndrome (i.e. if decoder.z == decoder.z_estimate for all entries). This can be checked using the method *early_stopping*:"
   ]
  },
  {
   "cell_type": "code",
   "execution_count": 36,
   "id": "2f155eb9",
   "metadata": {},
   "outputs": [
    {
     "data": {
      "text/plain": [
       "False"
      ]
     },
     "execution_count": 36,
     "metadata": {},
     "output_type": "execute_result"
    }
   ],
   "source": [
    "decoder.early_stopping()"
   ]
  },
  {
   "cell_type": "markdown",
   "id": "59e9873f",
   "metadata": {},
   "source": [
    "We can now propagate messages between VNs and CNs using the methods *update_CNs* and *update_VNs*:"
   ]
  },
  {
   "cell_type": "code",
   "execution_count": 37,
   "id": "556494ed",
   "metadata": {},
   "outputs": [
    {
     "name": "stdout",
     "output_type": "stream",
     "text": [
      "Decoder converged? False\n",
      "Decoder converged? False\n",
      "Decoder converged? False\n",
      "Decoder converged? True\n"
     ]
    }
   ],
   "source": [
    "N_iter = 4\n",
    "\n",
    "for i in range(N_iter):\n",
    "    decoder.update_CNs()\n",
    "    decoder.update_VNs()\n",
    "    decoder.update_estimates()\n",
    "    print(f\"Decoder converged? {decoder.early_stopping()}\")"
   ]
  },
  {
   "cell_type": "markdown",
   "id": "027a73c7",
   "metadata": {},
   "source": [
    "The process of setting an error, initializing the decoder and propagating messages is summarized into the function *decode*. This message is passed an error, an update function (could be parallel or serial), a maximum number of iterations and three booleans, indicating if:\n",
    "\n",
    "- init: Indicates whether the decoder should be (re-)initialized. When not specified this is set to True but False may be helpful to resume decoding from a certain state\n",
    "\n",
    "- early_stopping: Indicates whether decoding should be terminated after a valid syndrome was found\n",
    "\n",
    "- log_history: Indicates whether the beliefs should be stored into the list *Gamma_history_list*. This is helpful to plot the decoding histories.\n",
    "\n",
    "Note that the argument *update* is a function which describes the order of the nodes in which the update functions are called. These functions are defined in the decoder class. As the two schedules require different code in the update (mostly due to efficient parallelization), there exist two classes, DecoderParallel and DecoderSerial. Thus, in the parallel case we pass decoder.parallel, in the serial case we pass decoder.serial_VN or decoder.serial_VN_schedule. For more details on these function, see the Notebooks *parallel_bp_decoding* and *serial_bp_decoding*."
   ]
  },
  {
   "cell_type": "code",
   "execution_count": 38,
   "id": "2892b95a",
   "metadata": {},
   "outputs": [
    {
     "data": {
      "text/plain": [
       "GF([2, 1, 2, 3, 0, 0, 0, 0, 0, 0, 0, 0, 0, 0, 0, 0, 0, 0, 0, 0, 0, 0, 0,\n",
       "    0, 0, 0, 0, 0, 0, 0, 0, 0, 0, 0, 0, 0, 0, 0, 0, 0, 0, 0, 0, 0, 0, 0,\n",
       "    0, 0, 0, 0, 0, 0, 0, 0, 0, 0, 0, 0, 0, 0, 0, 0, 0, 0, 0, 0, 0, 0, 0,\n",
       "    0, 0, 0, 0, 0, 0, 0, 0, 0, 0, 0, 0, 0, 0, 0, 0, 0, 0, 0, 0, 0, 0, 0,\n",
       "    0, 0, 0, 0, 0, 0, 0, 0, 0, 0, 0, 0, 0, 0, 0, 0, 0, 0, 0, 0, 0, 0, 0,\n",
       "    0, 0, 0, 0, 0, 0, 0, 0, 0, 0, 0, 0, 0, 0, 0, 0, 0, 0, 0, 0, 0, 0, 0,\n",
       "    0, 0, 0, 0, 0, 0, 0, 0, 0, 0, 0, 0, 0, 0, 0, 0, 0, 0, 0, 0, 0, 0, 0,\n",
       "    0, 0, 0, 0, 0, 0, 0, 0, 0, 0, 0, 0, 0, 0, 0, 0, 0, 0, 0, 0, 0, 0, 0,\n",
       "    0, 0, 0, 0, 0, 0, 0, 0, 0, 0, 0, 0, 0, 0, 0, 0, 0, 0, 0, 0, 0, 0, 0,\n",
       "    0, 0, 0, 0, 0, 0, 0, 0, 0, 0, 0, 0, 0, 0, 0, 0, 0, 0, 0, 0, 0, 0, 0,\n",
       "    0, 0, 0, 0, 0, 0, 0, 0, 0, 0, 0, 0, 0, 0, 0, 0, 0, 0, 0, 0, 0, 0, 0,\n",
       "    0, 0, 0, 0, 0, 0, 0, 0, 0, 0, 0, 0, 0, 0, 0, 0, 0, 0, 0, 0, 0, 0, 0,\n",
       "    0, 0, 0, 0, 0, 0, 0, 0, 0, 0, 0, 0, 0, 0, 0, 0, 0, 0, 0, 0, 0, 0, 0,\n",
       "    0, 0, 0, 0, 0, 0, 0, 0, 0, 0, 0, 0, 0, 0, 0, 0, 0, 0, 0, 0, 0, 0, 0,\n",
       "    0, 0, 0, 0, 0, 0, 0, 0, 0, 0, 0, 0, 0, 0, 0, 0, 0, 0, 0, 0, 0, 0, 0,\n",
       "    0, 0, 0, 0, 0, 0, 0, 0, 0, 0, 0, 0, 0, 0, 0, 0, 0, 0, 0, 0, 0, 0, 0,\n",
       "    0, 0, 0, 0, 0, 0, 0, 0, 0, 0, 0, 0, 0, 0, 0, 0, 0, 0, 0, 0, 0, 0, 0,\n",
       "    0, 0, 0, 0, 0, 0, 0, 0, 0], order=2^2)"
      ]
     },
     "execution_count": 38,
     "metadata": {},
     "output_type": "execute_result"
    }
   ],
   "source": [
    "# reinstantiate a parallel decoder\n",
    "decoder = DecoderParallel(qcode.Mr, qcode.Mc, qcode.M_pauli_lookup,\n",
    "                          qcode.Nr, qcode.Nc, qcode.N_pauli_lookup,\n",
    "                          epsilon)\n",
    "\n",
    "# function returns the estimated error\n",
    "decoder.decode(error, decoder.parallel, N_iter=12, init=True, early_stopping=True, log_history=True)"
   ]
  },
  {
   "cell_type": "markdown",
   "id": "6d72fd8a",
   "metadata": {},
   "source": [
    "We can now use decoder.Gamma_history_list to obtain the history of beliefs and plot them:"
   ]
  },
  {
   "cell_type": "code",
   "execution_count": 39,
   "id": "7c3ea775",
   "metadata": {},
   "outputs": [
    {
     "data": {
      "image/png": "[encoded data removed]",
      "text/plain": [
       "<Figure size 720x216 with 5 Axes>"
      ]
     },
     "metadata": {
      "needs_background": "light"
     },
     "output_type": "display_data"
    }
   ],
   "source": [
    "# compute the history of beliefs from decoder.Gamma_history_list\n",
    "beliefs_history = p_from_Gamma_array(np.array(decoder.Gamma_history_list))\n",
    "\n",
    "# set latex font for the plot\n",
    "mpl.rc('font',**{\"size\": \"22\", 'family':'serif','serif':['STIXGeneral']})\n",
    "mpl.rc('text', usetex=True)\n",
    "\n",
    "plot_indices = [0, 1, 2, 3, 4]\n",
    "n_plot = len(plot_indices)\n",
    "\n",
    "# set different markers\n",
    "markers = [\"x\", \"o\", \"s\", \"D\"]\n",
    "marker_sizes = [6, 6, 6, 6]\n",
    "\n",
    "marker_styles = [dict(marker=markers[i], markersize=marker_sizes[i]) for i in np.arange(len(marker_sizes))]\n",
    "\n",
    "fig, axes = plt.subplots(nrows=1, ncols=n_plot, figsize=(10, 3), sharey=True)\n",
    "\n",
    "for qubit_index, (qubit, ax) in enumerate(zip(plot_indices, axes)):\n",
    "    \n",
    "    for index, (pauli_error, marker_style) in enumerate(zip([\"I\", \"X\", \"Z\", \"Y\"], marker_styles)):\n",
    "        ax.plot(np.arange(beliefs_history.shape[0]), beliefs_history[:, qubit, index], label = pauli_error,\n",
    "                    ls = '-', lw = 1.5, fillstyle = \"none\",\n",
    "                    **marker_style)\n",
    "\n",
    "        ax.set_title(\"Qubit \" + str(qubit), fontsize=20, pad = 10)\n",
    "        ax.set_xlabel(\"Iteration\", labelpad = 5, fontsize = 18)\n",
    "        \n",
    "        plt.yticks(fontsize = 18)\n",
    "    \n",
    "    # only plot label \"Beliefs\" for the first subplot\n",
    "    if qubit_index == 0:\n",
    "        ax.set_ylabel(\"Beliefs\", labelpad = 10, fontsize = 18)\n",
    "        \n",
    "    # only plot the legend for the last subplot\n",
    "    if qubit_index == 4:\n",
    "        ax.legend(loc = (1.2, 0.15), fontsize = 12)\n",
    "    \n",
    "plt.tight_layout()"
   ]
  },
  {
   "cell_type": "markdown",
   "id": "5cefe200",
   "metadata": {},
   "source": [
    "# Checking for decoding success"
   ]
  },
  {
   "cell_type": "markdown",
   "id": "9025ff24",
   "metadata": {},
   "source": [
    "Recall that (expressed in GF(4)) decoding succeeds if the sum of the true error and the estimated error lies in the rowspace of the stabilizer matrix. This is efficiently calculated using the function *qcode.stabilizer_check*. For the error decoded above, decoding is successful:"
   ]
  },
  {
   "cell_type": "code",
   "execution_count": 40,
   "id": "ac051fc0",
   "metadata": {},
   "outputs": [
    {
     "data": {
      "text/plain": [
       "True"
      ]
     },
     "execution_count": 40,
     "metadata": {},
     "output_type": "execute_result"
    }
   ],
   "source": [
    "qcode.stabilizer_check(GF4(error) + decoder.error_estimate)"
   ]
  },
  {
   "cell_type": "markdown",
   "id": "df5b84dc",
   "metadata": {},
   "source": [
    "Hence, the error estimate only has to be identical to the true error up to an element in the stabilizer (e.g. the sum of rows 0 and 1):"
   ]
  },
  {
   "cell_type": "code",
   "execution_count": 41,
   "id": "d179f673",
   "metadata": {},
   "outputs": [
    {
     "data": {
      "text/plain": [
       "True"
      ]
     },
     "execution_count": 41,
     "metadata": {},
     "output_type": "execute_result"
    }
   ],
   "source": [
    "qcode.stabilizer_check(decoder.error_estimate + GF4(error) + GF4(qcode.H[0]) + GF4(qcode.H[1]))"
   ]
  },
  {
   "cell_type": "code",
   "execution_count": null,
   "id": "a6c3346d",
   "metadata": {},
   "outputs": [],
   "source": []
  }
 ],
 "metadata": {
  "kernelspec": {
   "display_name": "Python 3 (ipykernel)",
   "language": "python",
   "name": "python3"
  },
  "language_info": {
   "codemirror_mode": {
    "name": "ipython",
    "version": 3
   },
   "file_extension": ".py",
   "mimetype": "text/x-python",
   "name": "python",
   "nbconvert_exporter": "python",
   "pygments_lexer": "ipython3",
   "version": "3.10.4"
  }
 },
 "nbformat": 4,
 "nbformat_minor": 5
}
