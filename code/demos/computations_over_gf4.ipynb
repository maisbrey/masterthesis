{
 "cells": [
  {
   "cell_type": "code",
   "execution_count": 1,
   "id": "dbf5b7e2",
   "metadata": {},
   "outputs": [],
   "source": [
    "import numpy as np\n",
    "import galois"
   ]
  },
  {
   "cell_type": "markdown",
   "id": "4531a93d",
   "metadata": {},
   "source": [
    "# Basics on GF(4)"
   ]
  },
  {
   "cell_type": "markdown",
   "id": "0efe8893",
   "metadata": {},
   "source": [
    "In the context of quantum codes, computations over GF(4) are quite common. In the scope of this thesis, they were implemented using the *galois* package. It enables computation over GF(4) analogous to numpy using the GF4 object."
   ]
  },
  {
   "cell_type": "code",
   "execution_count": 2,
   "id": "956e5ccd",
   "metadata": {},
   "outputs": [],
   "source": [
    "GF4 = galois.GF(4)"
   ]
  },
  {
   "cell_type": "markdown",
   "id": "b04ece16",
   "metadata": {},
   "source": [
    "Vectors and matrices can then be defined using numpy arrays. Note that each entry has to be in $\\{ 0, 1, 2, 3 \\}$, corresponding to the elements $\\{ 0, 1, \\omega, \\bar{\\omega} \\}$."
   ]
  },
  {
   "cell_type": "code",
   "execution_count": 3,
   "id": "dfae5b0c",
   "metadata": {},
   "outputs": [
    {
     "data": {
      "text/plain": [
       "GF([0, 1, 2, 3], order=2^2)"
      ]
     },
     "execution_count": 3,
     "metadata": {},
     "output_type": "execute_result"
    }
   ],
   "source": [
    "GF4(np.array([0, 1, 2, 3]))"
   ]
  },
  {
   "cell_type": "markdown",
   "id": "676afa4a",
   "metadata": {},
   "source": [
    "Addition and multiplication of two elements in GF(4) are defined the following way:"
   ]
  },
  {
   "cell_type": "code",
   "execution_count": 4,
   "id": "978f30ae",
   "metadata": {},
   "outputs": [
    {
     "name": "stdout",
     "output_type": "stream",
     "text": [
      "+-------+---+---+---+---+\n",
      "| x + y | 0 | 1 | 2 | 3 |\n",
      "+-------+---+---+---+---+\n",
      "|     0 | 0 | 1 | 2 | 3 |\n",
      "+-------+---+---+---+---+\n",
      "|     1 | 1 | 0 | 3 | 2 |\n",
      "+-------+---+---+---+---+\n",
      "|     2 | 2 | 3 | 0 | 1 |\n",
      "+-------+---+---+---+---+\n",
      "|     3 | 3 | 2 | 1 | 0 |\n",
      "+-------+---+---+---+---+\n"
     ]
    }
   ],
   "source": [
    "print(GF4.arithmetic_table(\"+\"))"
   ]
  },
  {
   "cell_type": "code",
   "execution_count": 5,
   "id": "a5c6d512",
   "metadata": {},
   "outputs": [
    {
     "name": "stdout",
     "output_type": "stream",
     "text": [
      "+-------+---+---+---+---+\n",
      "| x * y | 0 | 1 | 2 | 3 |\n",
      "+-------+---+---+---+---+\n",
      "|     0 | 0 | 0 | 0 | 0 |\n",
      "+-------+---+---+---+---+\n",
      "|     1 | 0 | 1 | 2 | 3 |\n",
      "+-------+---+---+---+---+\n",
      "|     2 | 0 | 2 | 3 | 1 |\n",
      "+-------+---+---+---+---+\n",
      "|     3 | 0 | 3 | 1 | 2 |\n",
      "+-------+---+---+---+---+\n"
     ]
    }
   ],
   "source": [
    "print(GF4.arithmetic_table(\"*\"))"
   ]
  },
  {
   "cell_type": "markdown",
   "id": "9e0028c5",
   "metadata": {},
   "source": [
    "# Syndrome Computation"
   ]
  },
  {
   "cell_type": "markdown",
   "id": "1857b549",
   "metadata": {},
   "source": [
    "As described in the thesis, stabilizers and quantum errors can be represented as vectors of GF(4). We use the mapping\n",
    "\n",
    "$\\mathbf{I} \\leftrightarrow 0 \\;\\;\\;\\;\\;\\; \\mathbf{X} \\leftrightarrow 1 \\;\\;\\;\\;\\;\\; \n",
    "\\mathbf{Z} \\leftrightarrow 2 \\;\\;\\;\\;\\;\\; \\mathbf{Y} \\leftrightarrow 3 \\;\\;\\;\\;\\;\\;$\n",
    "\n",
    "to implement these computations in Python. The elements from Example 5 (p. 17) in the thesis are given as:"
   ]
  },
  {
   "cell_type": "code",
   "execution_count": 6,
   "id": "e3e644bb",
   "metadata": {},
   "outputs": [],
   "source": [
    "S_1 = GF4(np.array([1, 2, 0, 3], dtype = np.uint8))\n",
    "S_2 = GF4(np.array([1, 1, 3, 2], dtype = np.uint8))"
   ]
  },
  {
   "cell_type": "markdown",
   "id": "9af5d958",
   "metadata": {},
   "source": [
    "The commutation relation of two elements $\\mathbf{a}$ and $\\mathbf{b}$ translates to the trace inner product (TIP)\n",
    "\n",
    "$$ \\text{Tr} <a, b> = \\text{Tr}(\\sum_{n} a_n \\cdot \\bar{b_n})$$\n",
    "\n",
    "where the conjugate $\\bar{x}$ of an element is given by $\\bar{x} = x \\cdot x$. As a result, the TIP is implemented as"
   ]
  },
  {
   "cell_type": "code",
   "execution_count": 7,
   "id": "ed1d01a4",
   "metadata": {},
   "outputs": [
    {
     "data": {
      "text/plain": [
       "0"
      ]
     },
     "execution_count": 7,
     "metadata": {},
     "output_type": "execute_result"
    }
   ],
   "source": [
    "(np.sum(S_1 * S_2 ** 2) > 1).astype(np.uint8)"
   ]
  },
  {
   "cell_type": "markdown",
   "id": "01c6afc6",
   "metadata": {},
   "source": [
    "The syndrome is obtained by evaluating the commuation relation between each row in the stabilizer matrix and the quantum error. This can efficiently be implemented using the *np.dot* function"
   ]
  },
  {
   "cell_type": "code",
   "execution_count": 8,
   "id": "f8d8d3af",
   "metadata": {},
   "outputs": [
    {
     "data": {
      "text/plain": [
       "array([0, 1], dtype=uint8)"
      ]
     },
     "execution_count": 8,
     "metadata": {},
     "output_type": "execute_result"
    }
   ],
   "source": [
    "S = GF4(np.array([[1, 2, 0, 3], \n",
    "                  [1, 3, 1, 2]], dtype = np.uint8))\n",
    "\n",
    "error = GF4(np.array([0, 1, 1, 2]))\n",
    "\n",
    "z = (np.dot(S, error ** 2) > 1).astype(np.uint8)\n",
    "z"
   ]
  },
  {
   "cell_type": "code",
   "execution_count": null,
   "id": "6dd20ee4",
   "metadata": {},
   "outputs": [],
   "source": []
  }
 ],
 "metadata": {
  "kernelspec": {
   "display_name": "Python 3 (ipykernel)",
   "language": "python",
   "name": "python3"
  },
  "language_info": {
   "codemirror_mode": {
    "name": "ipython",
    "version": 3
   },
   "file_extension": ".py",
   "mimetype": "text/x-python",
   "name": "python",
   "nbconvert_exporter": "python",
   "pygments_lexer": "ipython3",
   "version": "3.10.4"
  }
 },
 "nbformat": 4,
 "nbformat_minor": 5
}
